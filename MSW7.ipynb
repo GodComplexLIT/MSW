{
  "nbformat": 4,
  "nbformat_minor": 0,
  "metadata": {
    "colab": {
      "provenance": []
    },
    "kernelspec": {
      "name": "python3",
      "display_name": "Python 3"
    },
    "language_info": {
      "name": "python"
    }
  },
  "cells": [
    {
      "cell_type": "code",
      "source": [
        "import random\n",
        "import numpy as np"
      ],
      "metadata": {
        "id": "r0GgZphS__xm"
      },
      "execution_count": null,
      "outputs": []
    },
    {
      "cell_type": "code",
      "execution_count": null,
      "metadata": {
        "colab": {
          "base_uri": "https://localhost:8080/"
        },
        "id": "nbapWbsP_7PE",
        "outputId": "bf8bded6-3658-432f-dda9-500926f7909e"
      },
      "outputs": [
        {
          "output_type": "stream",
          "name": "stdout",
          "text": [
            "Pravděpodobnost získání páru je: 0.0601%\n"
          ]
        }
      ],
      "source": [
        "barvy = ['hearts', 'diamonds', 'clubs', 'spades']\n",
        "cisla = ['2', '3', '4', '5', '6', '7', '8', '9', '10', 'J', 'Q', 'K', 'A']\n",
        "balicek = [(cislo, barva) for cislo in cisla for barva in barvy]\n",
        "\n",
        "pocet_simulaci = 10000\n",
        "pocet_paru = 0\n",
        "\n",
        "for _ in range(pocet_simulaci):\n",
        "    random.shuffle(balicek) # zamíchání balíčku\n",
        "    ruka = balicek[:2] # rozdají se dvě karty\n",
        "\n",
        "    if ruka[0][0] == ruka[1][0]: # kontrola páru\n",
        "        pocet_paru += 1\n",
        "\n",
        "# pravděpodobnost páru\n",
        "pravdepodobnost_paru = pocet_paru / pocet_simulaci\n",
        "print(f\"Pravděpodobnost získání páru je: {pravdepodobnost_paru}%\")\n"
      ]
    }
  ]
}