{
  "cells": [
    {
      "cell_type": "markdown",
      "metadata": {},
      "source": [
        "<h3>7. Metoda Monte Carlo</h3>\n",
        "\n",
        "Zadání:\n",
        "Metoda Monte Carlo představuje rodinu metod a filozofický přístup k modelování jevů, který využívá vzorkování prostoru (například prostor čísel na herní kostce, které mohou padnout) pomocí pseudonáhodného generátoru čísel. Jelikož se jedná spíše o filozofii řešení problému, tak využití je téměř neomezené. Na hodinách jste viděli několik aplikací (optimalizace portfolia aktiv, řešení Monty Hall problému, integrace funkce, aj.). Nalezněte nějaký zajímavý problém, který nebyl na hodině řešen, a získejte o jeho řešení informace pomocí metody Monte Carlo. Můžete využít kódy ze sešitu z hodin, ale kontext úlohy se musí lišit."
      ]
    },
    {
      "cell_type": "code",
      "execution_count": null,
      "metadata": {
        "id": "r0GgZphS__xm"
      },
      "outputs": [],
      "source": [
        "import random\n",
        "import numpy as np"
      ]
    },
    {
      "cell_type": "code",
      "execution_count": null,
      "metadata": {
        "colab": {
          "base_uri": "https://localhost:8080/"
        },
        "id": "nbapWbsP_7PE",
        "outputId": "bf8bded6-3658-432f-dda9-500926f7909e"
      },
      "outputs": [
        {
          "name": "stdout",
          "output_type": "stream",
          "text": [
            "Pravděpodobnost získání páru je: 0.0601%\n"
          ]
        }
      ],
      "source": [
        "barvy = ['hearts', 'diamonds', 'clubs', 'spades']\n",
        "cisla = ['2', '3', '4', '5', '6', '7', '8', '9', '10', 'J', 'Q', 'K', 'A']\n",
        "balicek = [(cislo, barva) for cislo in cisla for barva in barvy]\n",
        "\n",
        "pocet_simulaci = 10000\n",
        "pocet_paru = 0\n",
        "\n",
        "for _ in range(pocet_simulaci):\n",
        "    random.shuffle(balicek) # zamíchání balíčku\n",
        "    ruka = balicek[:2] # rozdají se dvě karty\n",
        "\n",
        "    if ruka[0][0] == ruka[1][0]: # kontrola páru\n",
        "        pocet_paru += 1\n",
        "\n",
        "# pravděpodobnost páru\n",
        "pravdepodobnost_paru = pocet_paru / pocet_simulaci\n",
        "print(f\"Pravděpodobnost získání páru je: {pravdepodobnost_paru}%\")\n"
      ]
    }
  ],
  "metadata": {
    "colab": {
      "provenance": []
    },
    "kernelspec": {
      "display_name": "Python 3",
      "name": "python3"
    },
    "language_info": {
      "name": "python"
    }
  },
  "nbformat": 4,
  "nbformat_minor": 0
}
