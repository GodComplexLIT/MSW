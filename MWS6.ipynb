{
  "nbformat": 4,
  "nbformat_minor": 0,
  "metadata": {
    "colab": {
      "provenance": []
    },
    "kernelspec": {
      "name": "python3",
      "display_name": "Python 3"
    },
    "language_info": {
      "name": "python"
    }
  },
  "cells": [
    {
      "cell_type": "code",
      "source": [
        "import time\n",
        "import random"
      ],
      "metadata": {
        "id": "TLWlh9X0GaK4"
      },
      "execution_count": null,
      "outputs": []
    },
    {
      "cell_type": "code",
      "execution_count": null,
      "metadata": {
        "colab": {
          "base_uri": "https://localhost:8080/"
        },
        "id": "L34QclD6FX7Q",
        "outputId": "22d6ebc1-e9df-4d82-cf12-2ce2dce818b6"
      },
      "outputs": [
        {
          "output_type": "stream",
          "name": "stdout",
          "text": [
            "Zadejte náhodné úhozy do klávesnice:\n",
            "zub\n",
            "0.49663115543851\n"
          ]
        }
      ],
      "source": [
        "def generator_seminka():\n",
        "    print(\"Zadejte náhodné úhozy do klávesnice:\")\n",
        "    uhozy = input()\n",
        "\n",
        "    # Převedeme úhozy na čísla\n",
        "    uhozy_cisla = [ord(char) for char in uhozy]\n",
        "\n",
        "    # Vypočítáme průměr\n",
        "    prumer_uhozu = sum(uhozy_cisla) / len(uhozy_cisla)\n",
        "\n",
        "    # Vezmeme aktuální čas\n",
        "    cas = time.time()\n",
        "\n",
        "    # Vypočítáme semínko\n",
        "    seed = prumer_uhozu * cas\n",
        "\n",
        "    # Vrátíme semínko\n",
        "    return seed\n",
        "\n",
        "# generátor pseudonáhodných čísel\n",
        "random.seed(generator_seminka())\n",
        "\n",
        "print(random.random())\n"
      ]
    }
  ]
}