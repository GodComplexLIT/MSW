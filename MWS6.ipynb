{
  "cells": [
    {
      "cell_type": "markdown",
      "metadata": {},
      "source": [
        "<h3>6. Generování náhodných čísel a testování generátorů</h3>\n",
        "\n",
        "Zadání:\n",
        "Tento úkol bude poněkud kreativnější charakteru. Vaším úkolem je vytvořit vlastní generátor semínka do pseudonáhodných algoritmů. Jazyk Python umí sbírat přes ovladače hardwarových zařízení různá fyzická a fyzikální data. Můžete i sbírat data z historie prohlížeče, snímání pohybu myší, vyzvání uživatele zadat náhodné úhozy do klávesnice a jiná unikátní data uživatelů. "
      ]
    },
    {
      "cell_type": "code",
      "execution_count": null,
      "metadata": {
        "id": "TLWlh9X0GaK4"
      },
      "outputs": [],
      "source": [
        "import time\n",
        "import random"
      ]
    },
    {
      "cell_type": "code",
      "execution_count": null,
      "metadata": {
        "colab": {
          "base_uri": "https://localhost:8080/"
        },
        "id": "L34QclD6FX7Q",
        "outputId": "22d6ebc1-e9df-4d82-cf12-2ce2dce818b6"
      },
      "outputs": [
        {
          "name": "stdout",
          "output_type": "stream",
          "text": [
            "Zadejte náhodné úhozy do klávesnice:\n",
            "zub\n",
            "0.49663115543851\n"
          ]
        }
      ],
      "source": [
        "def generator_seminka():\n",
        "    print(\"Zadejte náhodné úhozy do klávesnice:\")\n",
        "    uhozy = input()\n",
        "\n",
        "    # Převedeme úhozy na čísla\n",
        "    uhozy_cisla = [ord(char) for char in uhozy]\n",
        "\n",
        "    # Vypočítáme průměr\n",
        "    prumer_uhozu = sum(uhozy_cisla) / len(uhozy_cisla)\n",
        "\n",
        "    # Vezmeme aktuální čas\n",
        "    cas = time.time()\n",
        "\n",
        "    # Vypočítáme semínko\n",
        "    seed = prumer_uhozu * cas\n",
        "\n",
        "    # Vrátíme semínko\n",
        "    return seed\n",
        "\n",
        "# generátor pseudonáhodných čísel\n",
        "random.seed(generator_seminka())\n",
        "\n",
        "print(random.random())\n"
      ]
    }
  ],
  "metadata": {
    "colab": {
      "provenance": []
    },
    "kernelspec": {
      "display_name": "Python 3",
      "name": "python3"
    },
    "language_info": {
      "name": "python"
    }
  },
  "nbformat": 4,
  "nbformat_minor": 0
}
