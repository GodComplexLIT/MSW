{
  "cells": [
    {
      "cell_type": "markdown",
      "metadata": {
        "id": "PNvqtJXC8S8D"
      },
      "source": [
        "<h3>1. Knihovny a moduly pro matematické výpočty</h3>\n",
        "\n",
        "Zadání:\n",
        "V tomto kurzu jste se učili s některými vybranými knihovnami. Některé sloužily pro rychlé vektorové operace, jako numpy, některé mají naprogramovány symbolické manipulace, které lze převést na numerické reprezentace (sympy), některé mají v sobě funkce pro numerickou integraci (scipy). Některé slouží i pro rychlé základní operace s čísly (numba).\n",
        "\n",
        "Vaším úkolem je změřit potřebný čas pro vyřešení nějakého problému (např.: provést skalární součin, vypočítat určitý integrál) pomocí standardního pythonu a pomocí specializované knihovny. Toto měření proveďte alespoň pro 5 různých úloh (ne pouze jiná čísla, ale úplně jiné téma) a minimálně porovnejte rychlost jednoho modulu se standardním pythonem. Ideálně proveďte porovnání ještě s dalším modulem a snažte se, ať je kód ve standardním pythonu napsán efektivně. ​\n"
      ]
    },
    {
      "cell_type": "code",
      "execution_count": null,
      "metadata": {
        "id": "muTM-1L5Eerd"
      },
      "outputs": [],
      "source": [
        "import math\n",
        "import time\n",
        "import numpy as np\n",
        "import scipy.integrate as spi\n",
        "import random"
      ]
    },
    {
      "cell_type": "markdown",
      "metadata": {
        "id": "KGtZd7QY9g2M"
      },
      "source": [
        "1. **Faktoriál**"
      ]
    },
    {
      "cell_type": "code",
      "execution_count": null,
      "metadata": {
        "colab": {
          "base_uri": "https://localhost:8080/"
        },
        "id": "jxtkWgSv8OdP",
        "outputId": "3a9215bb-04f3-410c-f815-0905644db571"
      },
      "outputs": [
        {
          "name": "stdout",
          "output_type": "stream",
          "text": [
            "výsledek:120\n",
            "za použití pythonu 0.00031065940856933594\n",
            "výsledek: 120\n",
            "za použití knihovny: 0.00011587142944335938\n"
          ]
        }
      ],
      "source": [
        "# za použítí Pythonu\n",
        "cas_start = time.time() # začátek spuštění odečteme od konce\n",
        "\n",
        "faktorial = 5 # číslo pro které faktoriál hledáme\n",
        "vysledek = 1\n",
        "\n",
        "for i in range(1, faktorial + 1):\n",
        "    vysledek *= i\n",
        "\n",
        "cas_konec = time.time()\n",
        "\n",
        "print(f\"výsledek:{vysledek}\")\n",
        "print(f\"za použití pythonu {cas_konec - cas_start}\")\n",
        "\n",
        "# za použití knihovny\n",
        "\n",
        "cas_start = time.time()\n",
        "faktorial = math.factorial(5)\n",
        "cas_konec = time.time()\n",
        "\n",
        "print(f\"výsledek: {faktorial}\")\n",
        "print(f\"za použití knihovny: {cas_konec - cas_start}\")"
      ]
    },
    {
      "cell_type": "markdown",
      "metadata": {
        "id": "HlsVwDViCMZR"
      },
      "source": [
        "2. **Skalární součin**"
      ]
    },
    {
      "cell_type": "code",
      "execution_count": null,
      "metadata": {
        "colab": {
          "base_uri": "https://localhost:8080/"
        },
        "id": "_GD_7B3yCJoV",
        "outputId": "8e3744d1-b9e5-44d4-d6ec-719587126d05"
      },
      "outputs": [
        {
          "name": "stdout",
          "output_type": "stream",
          "text": [
            "vysledek: 32\n",
            "za použití pythonu 0.00031876564025878906\n",
            "výsledek: 32\n",
            "za použití knihovny: 0.0002677440643310547\n"
          ]
        }
      ],
      "source": [
        "# za použití pythonu\n",
        "cas_start = time.time()\n",
        "\n",
        "a = [1,2,3]\n",
        "b = [4,5,6]\n",
        "\n",
        "vysledek = sum(i*j for i, j in zip(a,b))\n",
        "\n",
        "cas_konec = time.time()\n",
        "\n",
        "print(f\"vysledek: {vysledek}\")\n",
        "print(f\"za použití pythonu {cas_konec - cas_start}\")\n",
        "\n",
        "# za použití knihovny\n",
        "cas_start = time.time()\n",
        "a = [1,2,3]\n",
        "b = [4,5,6]\n",
        "\n",
        "vysledek = np.dot(a,b)\n",
        "cas_konec = time.time()\n",
        "\n",
        "print(f\"výsledek: {vysledek}\")\n",
        "print(f\"za použití knihovny: {cas_konec - cas_start}\")"
      ]
    },
    {
      "cell_type": "markdown",
      "metadata": {
        "id": "YXyJeuBqE-Pd"
      },
      "source": [
        "3. **Určitý integrál**"
      ]
    },
    {
      "cell_type": "code",
      "execution_count": null,
      "metadata": {
        "colab": {
          "base_uri": "https://localhost:8080/"
        },
        "id": "wtbgHlDUFAJV",
        "outputId": "edaedc1e-8059-4225-f34c-b893b8d8a0c6"
      },
      "outputs": [
        {
          "name": "stdout",
          "output_type": "stream",
          "text": [
            "vysledek: 0.33283350000000034\n",
            "za použití pythonu 0.0010683536529541016\n",
            "výsledek: 0.33333333333333337\n",
            "za použití knihovny: 0.00024247169494628906\n"
          ]
        }
      ],
      "source": [
        "# za použití pythonu\n",
        "cas_start = time.time()\n",
        "\n",
        "def f(x):\n",
        "    return x**2\n",
        "\n",
        "a, b = 0, 1 # interval\n",
        "dx = 0.001\n",
        "\n",
        "x = [i*dx for i in range(int(a/dx), int(b/dx))] # seznam hodnot x\n",
        "\n",
        "vysledek = sum([f(i)*dx for i in x]) # aproximace určitého integrálu\n",
        "cas_konec = time.time()\n",
        "\n",
        "print(f\"výsledek: {vysledek}\")\n",
        "print(f\"za použití pythonu {cas_konec - cas_start}\")\n",
        "\n",
        "# za použití knihovny\n",
        "cas_start = time.time()\n",
        "a, b = 0, 1\n",
        "vysledek, odhad_chyb = spi.quad(f, a, b)\n",
        "cas_konec = time.time()\n",
        "\n",
        "print(f\"výsledek: {vysledek}\")\n",
        "print(f\"za použití knihovny: {cas_konec - cas_start}\")"
      ]
    },
    {
      "cell_type": "markdown",
      "metadata": {
        "id": "SOwEsBqdJZaC"
      },
      "source": [
        "4. **Násobení matic**"
      ]
    },
    {
      "cell_type": "code",
      "execution_count": null,
      "metadata": {
        "colab": {
          "base_uri": "https://localhost:8080/"
        },
        "id": "k7aaQZaNJdDS",
        "outputId": "142d5817-fdf3-4374-c72e-4569489dd752"
      },
      "outputs": [
        {
          "name": "stdout",
          "output_type": "stream",
          "text": [
            "výsledek:\n",
            "[84, 90, 96]\n",
            "[201, 216, 231]\n",
            "[318, 342, 366]\n",
            "za použití pythonu 0.00039005279541015625\n",
            "výsledek:\n",
            "[[ 84  90  96]\n",
            " [201 216 231]\n",
            " [318 342 366]]\n",
            "za použití knihovny: 0.0003306865692138672\n"
          ]
        }
      ],
      "source": [
        "# za použití pythonu\n",
        "cas_start = time.time()\n",
        "\n",
        "a = [[1,2,3],[4,5,6],[7,8,9]]\n",
        "b = [[10,11,12],[13,14,15],[16,17,18]]\n",
        "\n",
        "vysledek = [[sum(x*y for x,y in zip(row, col)) for col in zip(*b)] for row in a]\n",
        "cas_konec = time.time()\n",
        "\n",
        "print(f\"výsledek:\")\n",
        "for i in vysledek:\n",
        "    print(i)\n",
        "\n",
        "print(f\"za použití pythonu {cas_konec - cas_start}\")\n",
        "\n",
        "# za použití knihovny\n",
        "cas_start = time.time()\n",
        "\n",
        "a = [[1,2,3],[4,5,6],[7,8,9]]\n",
        "b = [[10,11,12],[13,14,15],[16,17,18]]\n",
        "\n",
        "vysledek = np.dot(a, b)\n",
        "cas_konec = time.time()\n",
        "\n",
        "print(\"výsledek:\")\n",
        "print(vysledek)\n",
        "print(f\"za použití knihovny: {cas_konec - cas_start}\")"
      ]
    },
    {
      "cell_type": "markdown",
      "metadata": {
        "id": "LQKlR0aos1Wb"
      },
      "source": [
        "5. **Generování náhodných čísel**"
      ]
    },
    {
      "cell_type": "code",
      "execution_count": null,
      "metadata": {
        "colab": {
          "base_uri": "https://localhost:8080/"
        },
        "id": "Gf3RgklyYx0N",
        "outputId": "b23c77b4-2ada-4c99-b58f-c20642de2a5c"
      },
      "outputs": [
        {
          "name": "stdout",
          "output_type": "stream",
          "text": [
            "výsledné číslo:[0.29987220861612496, 0.29604786164941155, 0.672805205634003, 0.0025643962172680057, 0.5747420197839518, 0.5717784058653891, 0.8873326186069473, 0.7280504299175735, 0.07883521726561982, 0.3039232503663103]\n",
            "za použití pythonu 0.00016999244689941406\n",
            "výsledek: [0.38592673 0.46446    0.39699489 0.05786543 0.30617328 0.75286801\n",
            " 0.72587172 0.2543539  0.04775212 0.67468206]\n",
            "za použití knihovny: 0.0001685619354248047\n"
          ]
        }
      ],
      "source": [
        "# za použítí Pythonu\n",
        "cas_start = time.time() # začátek spuštění odečteme od konce\n",
        "\n",
        "nahodne_cislo = [random.random() for i in range(0,10)]\n",
        "cas_konec = time.time()\n",
        "\n",
        "print(f\"výsledné číslo:{nahodne_cislo}\")\n",
        "print(f\"za použití pythonu {cas_konec - cas_start}\")\n",
        "\n",
        "# za použití knihovny\n",
        "\n",
        "cas_start = time.time()\n",
        "\n",
        "nahodne_cislo_np = np.random.rand(10)\n",
        "cas_konec = time.time()\n",
        "\n",
        "print(f\"výsledek: {nahodne_cislo_np}\")\n",
        "print(f\"za použití knihovny: {cas_konec - cas_start}\")"
      ]
    }
  ],
  "metadata": {
    "colab": {
      "provenance": []
    },
    "kernelspec": {
      "display_name": "Python 3",
      "name": "python3"
    },
    "language_info": {
      "name": "python"
    }
  },
  "nbformat": 4,
  "nbformat_minor": 0
}
